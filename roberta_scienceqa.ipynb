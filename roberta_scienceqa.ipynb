{
  "cells": [
    {
      "cell_type": "code",
      "execution_count": null,
      "metadata": {
        "id": "zVx79Dq8Eb0z"
      },
      "outputs": [],
      "source": [
        "! pip install datasets transformers"
      ]
    },
    {
      "cell_type": "code",
      "execution_count": null,
      "metadata": {
        "id": "6tWxnPYosTio"
      },
      "outputs": [],
      "source": [
        "from transformers import RobertaTokenizer, RobertaForMultipleChoice, AutoTokenizer, AdamW, TrainingArguments, Trainer\n",
        "from torch.utils.data import DataLoader, Dataset\n",
        "import torch\n",
        "import json\n",
        "import pandas as pd\n",
        "import numpy as np\n",
        "from datasets import load_dataset"
      ]
    },
    {
      "cell_type": "code",
      "execution_count": null,
      "metadata": {
        "id": "7MjoV9ONEwK8"
      },
      "outputs": [],
      "source": [
        "# Check if a GPU is available\n",
        "device = torch.device('cuda' if torch.cuda.is_available() else 'cpu')\n",
        "\n",
        "# Define the model and tokenizer\n",
        "model = RobertaForMultipleChoice.from_pretrained('roberta-base').to(device)\n",
        "tokenizer = AutoTokenizer.from_pretrained('roberta-base')"
      ]
    },
    {
      "cell_type": "code",
      "execution_count": null,
      "metadata": {
        "id": "0zBCHarrN2pp"
      },
      "outputs": [],
      "source": [
        "import transformers\n",
        "assert isinstance(tokenizer, transformers.PreTrainedTokenizerFast)"
      ]
    },
    {
      "cell_type": "code",
      "execution_count": null,
      "metadata": {
        "id": "bLIGW6z2FDNl"
      },
      "outputs": [],
      "source": [
        "def read_jsonl(path: str):\n",
        "    with open(path) as fh:\n",
        "        return [json.loads(line) for line in fh.readlines() if line]"
      ]
    },
    {
      "cell_type": "code",
      "source": [
        "dataset = load_dataset(\"derek-thomas/ScienceQA\")"
      ],
      "metadata": {
        "id": "Yn1ciHy_YDGQ"
      },
      "execution_count": null,
      "outputs": []
    },
    {
      "cell_type": "code",
      "source": [
        "dataset[\"train\"][0]"
      ],
      "metadata": {
        "id": "Lz0kI5IiYfwV"
      },
      "execution_count": null,
      "outputs": []
    },
    {
      "cell_type": "code",
      "execution_count": null,
      "metadata": {
        "id": "Psi71jCqbLoT",
        "colab": {
          "base_uri": "https://localhost:8080/",
          "height": 17,
          "referenced_widgets": [
            "832c834cec3d4657aba7eae4df384a08",
            "499f9b05e6ce47b38c9f85c00ef03fa7",
            "4b6309ae11ef471ca331db2453d0b68e",
            "81943270cd1c4cfaa50b1b6b23289e1a",
            "d478be75349748ad9765b71fd9d00cd4",
            "05f31a2734994bbda7eb61810139d71c",
            "94120a49421a4b0e8019db8d0e48bcab",
            "b8b9f8721e3b4196a6cfbdb26226ed51",
            "c7146344d67745e394ae68acedc62d36",
            "e933c188ebb24797afa66b0efe6c6c74",
            "9997cd9324da418aa4226085d14150ac"
          ]
        },
        "outputId": "3344b1dd-69f3-446f-9328-d69a411321d8"
      },
      "outputs": [
        {
          "output_type": "display_data",
          "data": {
            "text/plain": [
              "Map:   0%|          | 0/12726 [00:00<?, ? examples/s]"
            ],
            "application/vnd.jupyter.widget-view+json": {
              "version_major": 2,
              "version_minor": 0,
              "model_id": "832c834cec3d4657aba7eae4df384a08"
            }
          },
          "metadata": {}
        }
      ],
      "source": [
        "def select_features(example):\n",
        "    # Replace 'context', 'question', 'answers' with the features you want to keep\n",
        "    selected_features = {key: example[key] for key in ['question', 'answer', 'choices']}\n",
        "    return selected_features\n",
        "\n",
        "data = dataset[\"train\"].map(lambda x: select_features(x), remove_columns = [\"hint\", \"task\", \"grade\", \"subject\", \"topic\", \"category\", \"skill\", \"lecture\", \"solution\"])"
      ]
    },
    {
      "cell_type": "code",
      "execution_count": null,
      "metadata": {
        "id": "b4fHKlRkGGlk"
      },
      "outputs": [],
      "source": [
        "max_length = 384 # The maximum length of a feature (question and context)\n",
        "doc_stride = 128 # The authorized overlap between two part of the context when splitting it is needed."
      ]
    },
    {
      "cell_type": "code",
      "execution_count": null,
      "metadata": {
        "id": "cvjvETqegXOR"
      },
      "outputs": [],
      "source": [
        "tokenized_example = tokenizer(\n",
        "    [question[\"question\"] for question in data],\n",
        "    max_length=max_length,\n",
        "    truncation=\"only_second\",\n",
        "    return_overflowing_tokens=True,\n",
        "    return_offsets_mapping=True,\n",
        "    stride=doc_stride\n",
        ")"
      ]
    },
    {
      "cell_type": "code",
      "execution_count": null,
      "metadata": {
        "id": "fC6id-zIiGCQ",
        "colab": {
          "base_uri": "https://localhost:8080/"
        },
        "outputId": "e1134bb8-ac0c-4cd3-8d37-2b957cd0d80c"
      },
      "outputs": [
        {
          "output_type": "stream",
          "name": "stdout",
          "text": [
            "<s>Which of these states is farthest north?</s>\n",
            "<s>Identify the question that Tom and Justin's experiment can best answer.</s>\n"
          ]
        }
      ],
      "source": [
        "for x in tokenized_example[\"input_ids\"][:2]:\n",
        "    print(tokenizer.decode(x))"
      ]
    },
    {
      "cell_type": "code",
      "execution_count": null,
      "metadata": {
        "id": "9koUeEICgqIJ"
      },
      "outputs": [],
      "source": [
        "class MathWordProblemDataset(Dataset):\n",
        "    def __init__(self, data, tokenizer):\n",
        "        self.data = data\n",
        "        self.tokenizer = tokenizer\n",
        "    \n",
        "    def __len__(self):\n",
        "        return len(self.data)\n",
        "    \n",
        "    def __getitem__(self, idx):\n",
        "        question = self.data[idx]['question']\n",
        "        answer = self.data[idx]['choices'][self.data[idx]['answer']]\n",
        "        \n",
        "        # tokenize inputs\n",
        "        inputs = self.tokenizer(question, padding='max_length', truncation=True, max_length=128, return_tensors='pt')\n",
        "        \n",
        "        # tokenize outputs\n",
        "        outputs = self.tokenizer(answer, padding='max_length', truncation=True, max_length=128, return_tensors='pt')\n",
        "\n",
        "        start_positions = torch.tensor([len(inputs)]).to(device)\n",
        "        end_positions = torch.tensor([len(inputs) + len(outputs) - 1]).to(device)\n",
        "        outputs = {'start_positions': start_positions, 'end_positions': end_positions}\n",
        "        \n",
        "        return {'input_ids': inputs['input_ids'][0], \n",
        "                'attention_mask': inputs['attention_mask'][0], \n",
        "                'start_positions': outputs['start_positions'], \n",
        "                'end_positions': outputs['end_positions']}\n",
        "        \n",
        "\n",
        "def collate_fn(batch):\n",
        "    # sort batch by length of input sequence\n",
        "    sorted_batch = sorted(batch, key=lambda x: x['input_ids'].shape[0], reverse=True)\n",
        "    \n",
        "    # pad inputs and outputs to have equal length\n",
        "    input_ids = torch.nn.utils.rnn.pad_sequence([x['input_ids'] for x in sorted_batch], batch_first=True)\n",
        "    attention_mask = torch.nn.utils.rnn.pad_sequence([x['attention_mask'] for x in sorted_batch], batch_first=True)\n",
        "    start_positions = torch.tensor([x['start_positions'] for x in sorted_batch])\n",
        "    end_positions = torch.tensor([x['end_positions'] for x in sorted_batch])\n",
        "    \n",
        "    return {'input_ids': input_ids.to(device), \n",
        "            'attention_mask': attention_mask.to(device), \n",
        "            'start_positions': start_positions.to(device), \n",
        "            'end_positions': end_positions.to(device)}\n",
        "\n",
        "from tqdm import tqdm\n",
        "import matplotlib.pyplot as plt\n",
        "\n",
        "# create dataset and dataloader\n",
        "batch_size=32\n",
        "dataset = MathWordProblemDataset(data, tokenizer)\n",
        "dataloader = DataLoader(dataset, batch_size=batch_size, collate_fn=collate_fn)\n",
        "losses = []\n",
        "\n",
        "# load model and set up optimizer\n",
        "optimizer = torch.optim.AdamW(model.parameters(), lr=5e-5)\n",
        "\n",
        "# finetune the model\n",
        "for epoch in range(3):\n",
        "    model.train(True)\n",
        "    for batch in tqdm(dataloader):\n",
        "        optimizer.zero_grad()\n",
        "        \n",
        "        # forward pass\n",
        "        outputs = model(input_ids=batch['input_ids'], attention_mask=batch['attention_mask'])\n",
        "                        # start_positions=batch['start_positions'], end_positions=batch['end_positions'])\n",
        "        \n",
        "        # calculate loss and backpropagate\n",
        "        loss = outputs.loss\n",
        "        losses.append(loss)\n",
        "        loss.backward()\n",
        "        optimizer.step()\n",
        "        \n",
        "    print(f\"Epoch {epoch+1} loss: {loss.item()}\")\n",
        "\n",
        "# save the finetuned model\n",
        "model.save_pretrained('finetuned_math_word_problem_model')"
      ]
    },
    {
      "cell_type": "code",
      "source": [
        "losses = [x.detach().numpy() for x in losses]\n",
        "\n",
        "# Plot the training and validation losses\n",
        "plt.plot(losses, label='Train Loss')\n",
        "plt.xlabel('Epoch')\n",
        "plt.ylabel('Loss')\n",
        "plt.legend()\n",
        "plt.show()"
      ],
      "metadata": {
        "id": "0uaCO3DKXnq1"
      },
      "execution_count": null,
      "outputs": []
    },
    {
      "cell_type": "code",
      "execution_count": null,
      "metadata": {
        "id": "OmwDFCmCEAS8"
      },
      "outputs": [],
      "source": [
        "# example math word problem\n",
        "question = \"John has 5 apples. They gave 2 apples to Mary. How many apples does John have now?\"\n",
        "actual_reason = \"John had 5 apples before giving 2 apples to Mary. Now he has only 3 apples left.\"\n",
        "\n",
        "# tokenize inputs\n",
        "inputs = tokenizer(question, padding='max_length', truncation=True, max_length=128, return_tensors='pt')\n",
        "\n",
        "# make prediction\n",
        "output = model(input_ids=inputs['input_ids'].to(device), attention_mask=inputs['attention_mask'].to(device))\n",
        "\n",
        "start_scores, end_scores = output.start_logits, output.end_logits\n",
        "answer_start = torch.argmax(start_scores)\n",
        "answer_end = torch.argmax(end_scores) + 1\n",
        "answer = tokenizer.convert_tokens_to_string(tokenizer.convert_ids_to_tokens(inputs['input_ids'][0][answer_start:answer_end]))"
      ]
    },
    {
      "cell_type": "code",
      "execution_count": null,
      "metadata": {
        "id": "-ivdi1lWKf3q"
      },
      "outputs": [],
      "source": [
        "answer"
      ]
    },
    {
      "cell_type": "code",
      "source": [
        "# Pass through the model and get the answer and reasoning\n",
        "outputs = model(input_ids=input_ids, attention_mask=attention_mask)\n",
        "start_logits, end_logits = outputs.start_logits, outputs.end_logits\n",
        "start_index = torch.argmax(start_logits)\n",
        "end_index = torch.argmax(end_logits)\n",
        "answer_tokens = input_tokens[start_index:end_index+1]\n",
        "answer = tokenizer.decode(answer_tokens)\n",
        "\n",
        "print(f\"Answer: {answer}\")"
      ],
      "metadata": {
        "id": "YGalX4jZrLfE"
      },
      "execution_count": null,
      "outputs": []
    }
  ],
  "metadata": {
    "accelerator": "GPU",
    "colab": {
      "machine_shape": "hm",
      "provenance": []
    },
    "gpuClass": "standard",
    "kernelspec": {
      "display_name": "Python 3",
      "name": "python3"
    },
    "language_info": {
      "name": "python"
    },
    "widgets": {
      "application/vnd.jupyter.widget-state+json": {
        "832c834cec3d4657aba7eae4df384a08": {
          "model_module": "@jupyter-widgets/controls",
          "model_name": "HBoxModel",
          "model_module_version": "1.5.0",
          "state": {
            "_dom_classes": [],
            "_model_module": "@jupyter-widgets/controls",
            "_model_module_version": "1.5.0",
            "_model_name": "HBoxModel",
            "_view_count": null,
            "_view_module": "@jupyter-widgets/controls",
            "_view_module_version": "1.5.0",
            "_view_name": "HBoxView",
            "box_style": "",
            "children": [
              "IPY_MODEL_499f9b05e6ce47b38c9f85c00ef03fa7",
              "IPY_MODEL_4b6309ae11ef471ca331db2453d0b68e",
              "IPY_MODEL_81943270cd1c4cfaa50b1b6b23289e1a"
            ],
            "layout": "IPY_MODEL_d478be75349748ad9765b71fd9d00cd4"
          }
        },
        "499f9b05e6ce47b38c9f85c00ef03fa7": {
          "model_module": "@jupyter-widgets/controls",
          "model_name": "HTMLModel",
          "model_module_version": "1.5.0",
          "state": {
            "_dom_classes": [],
            "_model_module": "@jupyter-widgets/controls",
            "_model_module_version": "1.5.0",
            "_model_name": "HTMLModel",
            "_view_count": null,
            "_view_module": "@jupyter-widgets/controls",
            "_view_module_version": "1.5.0",
            "_view_name": "HTMLView",
            "description": "",
            "description_tooltip": null,
            "layout": "IPY_MODEL_05f31a2734994bbda7eb61810139d71c",
            "placeholder": "​",
            "style": "IPY_MODEL_94120a49421a4b0e8019db8d0e48bcab",
            "value": "Map:  99%"
          }
        },
        "4b6309ae11ef471ca331db2453d0b68e": {
          "model_module": "@jupyter-widgets/controls",
          "model_name": "FloatProgressModel",
          "model_module_version": "1.5.0",
          "state": {
            "_dom_classes": [],
            "_model_module": "@jupyter-widgets/controls",
            "_model_module_version": "1.5.0",
            "_model_name": "FloatProgressModel",
            "_view_count": null,
            "_view_module": "@jupyter-widgets/controls",
            "_view_module_version": "1.5.0",
            "_view_name": "ProgressView",
            "bar_style": "",
            "description": "",
            "description_tooltip": null,
            "layout": "IPY_MODEL_b8b9f8721e3b4196a6cfbdb26226ed51",
            "max": 12726,
            "min": 0,
            "orientation": "horizontal",
            "style": "IPY_MODEL_c7146344d67745e394ae68acedc62d36",
            "value": 12726
          }
        },
        "81943270cd1c4cfaa50b1b6b23289e1a": {
          "model_module": "@jupyter-widgets/controls",
          "model_name": "HTMLModel",
          "model_module_version": "1.5.0",
          "state": {
            "_dom_classes": [],
            "_model_module": "@jupyter-widgets/controls",
            "_model_module_version": "1.5.0",
            "_model_name": "HTMLModel",
            "_view_count": null,
            "_view_module": "@jupyter-widgets/controls",
            "_view_module_version": "1.5.0",
            "_view_name": "HTMLView",
            "description": "",
            "description_tooltip": null,
            "layout": "IPY_MODEL_e933c188ebb24797afa66b0efe6c6c74",
            "placeholder": "​",
            "style": "IPY_MODEL_9997cd9324da418aa4226085d14150ac",
            "value": " 12591/12726 [00:01&lt;00:00, 6876.48 examples/s]"
          }
        },
        "d478be75349748ad9765b71fd9d00cd4": {
          "model_module": "@jupyter-widgets/base",
          "model_name": "LayoutModel",
          "model_module_version": "1.2.0",
          "state": {
            "_model_module": "@jupyter-widgets/base",
            "_model_module_version": "1.2.0",
            "_model_name": "LayoutModel",
            "_view_count": null,
            "_view_module": "@jupyter-widgets/base",
            "_view_module_version": "1.2.0",
            "_view_name": "LayoutView",
            "align_content": null,
            "align_items": null,
            "align_self": null,
            "border": null,
            "bottom": null,
            "display": null,
            "flex": null,
            "flex_flow": null,
            "grid_area": null,
            "grid_auto_columns": null,
            "grid_auto_flow": null,
            "grid_auto_rows": null,
            "grid_column": null,
            "grid_gap": null,
            "grid_row": null,
            "grid_template_areas": null,
            "grid_template_columns": null,
            "grid_template_rows": null,
            "height": null,
            "justify_content": null,
            "justify_items": null,
            "left": null,
            "margin": null,
            "max_height": null,
            "max_width": null,
            "min_height": null,
            "min_width": null,
            "object_fit": null,
            "object_position": null,
            "order": null,
            "overflow": null,
            "overflow_x": null,
            "overflow_y": null,
            "padding": null,
            "right": null,
            "top": null,
            "visibility": "hidden",
            "width": null
          }
        },
        "05f31a2734994bbda7eb61810139d71c": {
          "model_module": "@jupyter-widgets/base",
          "model_name": "LayoutModel",
          "model_module_version": "1.2.0",
          "state": {
            "_model_module": "@jupyter-widgets/base",
            "_model_module_version": "1.2.0",
            "_model_name": "LayoutModel",
            "_view_count": null,
            "_view_module": "@jupyter-widgets/base",
            "_view_module_version": "1.2.0",
            "_view_name": "LayoutView",
            "align_content": null,
            "align_items": null,
            "align_self": null,
            "border": null,
            "bottom": null,
            "display": null,
            "flex": null,
            "flex_flow": null,
            "grid_area": null,
            "grid_auto_columns": null,
            "grid_auto_flow": null,
            "grid_auto_rows": null,
            "grid_column": null,
            "grid_gap": null,
            "grid_row": null,
            "grid_template_areas": null,
            "grid_template_columns": null,
            "grid_template_rows": null,
            "height": null,
            "justify_content": null,
            "justify_items": null,
            "left": null,
            "margin": null,
            "max_height": null,
            "max_width": null,
            "min_height": null,
            "min_width": null,
            "object_fit": null,
            "object_position": null,
            "order": null,
            "overflow": null,
            "overflow_x": null,
            "overflow_y": null,
            "padding": null,
            "right": null,
            "top": null,
            "visibility": null,
            "width": null
          }
        },
        "94120a49421a4b0e8019db8d0e48bcab": {
          "model_module": "@jupyter-widgets/controls",
          "model_name": "DescriptionStyleModel",
          "model_module_version": "1.5.0",
          "state": {
            "_model_module": "@jupyter-widgets/controls",
            "_model_module_version": "1.5.0",
            "_model_name": "DescriptionStyleModel",
            "_view_count": null,
            "_view_module": "@jupyter-widgets/base",
            "_view_module_version": "1.2.0",
            "_view_name": "StyleView",
            "description_width": ""
          }
        },
        "b8b9f8721e3b4196a6cfbdb26226ed51": {
          "model_module": "@jupyter-widgets/base",
          "model_name": "LayoutModel",
          "model_module_version": "1.2.0",
          "state": {
            "_model_module": "@jupyter-widgets/base",
            "_model_module_version": "1.2.0",
            "_model_name": "LayoutModel",
            "_view_count": null,
            "_view_module": "@jupyter-widgets/base",
            "_view_module_version": "1.2.0",
            "_view_name": "LayoutView",
            "align_content": null,
            "align_items": null,
            "align_self": null,
            "border": null,
            "bottom": null,
            "display": null,
            "flex": null,
            "flex_flow": null,
            "grid_area": null,
            "grid_auto_columns": null,
            "grid_auto_flow": null,
            "grid_auto_rows": null,
            "grid_column": null,
            "grid_gap": null,
            "grid_row": null,
            "grid_template_areas": null,
            "grid_template_columns": null,
            "grid_template_rows": null,
            "height": null,
            "justify_content": null,
            "justify_items": null,
            "left": null,
            "margin": null,
            "max_height": null,
            "max_width": null,
            "min_height": null,
            "min_width": null,
            "object_fit": null,
            "object_position": null,
            "order": null,
            "overflow": null,
            "overflow_x": null,
            "overflow_y": null,
            "padding": null,
            "right": null,
            "top": null,
            "visibility": null,
            "width": null
          }
        },
        "c7146344d67745e394ae68acedc62d36": {
          "model_module": "@jupyter-widgets/controls",
          "model_name": "ProgressStyleModel",
          "model_module_version": "1.5.0",
          "state": {
            "_model_module": "@jupyter-widgets/controls",
            "_model_module_version": "1.5.0",
            "_model_name": "ProgressStyleModel",
            "_view_count": null,
            "_view_module": "@jupyter-widgets/base",
            "_view_module_version": "1.2.0",
            "_view_name": "StyleView",
            "bar_color": null,
            "description_width": ""
          }
        },
        "e933c188ebb24797afa66b0efe6c6c74": {
          "model_module": "@jupyter-widgets/base",
          "model_name": "LayoutModel",
          "model_module_version": "1.2.0",
          "state": {
            "_model_module": "@jupyter-widgets/base",
            "_model_module_version": "1.2.0",
            "_model_name": "LayoutModel",
            "_view_count": null,
            "_view_module": "@jupyter-widgets/base",
            "_view_module_version": "1.2.0",
            "_view_name": "LayoutView",
            "align_content": null,
            "align_items": null,
            "align_self": null,
            "border": null,
            "bottom": null,
            "display": null,
            "flex": null,
            "flex_flow": null,
            "grid_area": null,
            "grid_auto_columns": null,
            "grid_auto_flow": null,
            "grid_auto_rows": null,
            "grid_column": null,
            "grid_gap": null,
            "grid_row": null,
            "grid_template_areas": null,
            "grid_template_columns": null,
            "grid_template_rows": null,
            "height": null,
            "justify_content": null,
            "justify_items": null,
            "left": null,
            "margin": null,
            "max_height": null,
            "max_width": null,
            "min_height": null,
            "min_width": null,
            "object_fit": null,
            "object_position": null,
            "order": null,
            "overflow": null,
            "overflow_x": null,
            "overflow_y": null,
            "padding": null,
            "right": null,
            "top": null,
            "visibility": null,
            "width": null
          }
        },
        "9997cd9324da418aa4226085d14150ac": {
          "model_module": "@jupyter-widgets/controls",
          "model_name": "DescriptionStyleModel",
          "model_module_version": "1.5.0",
          "state": {
            "_model_module": "@jupyter-widgets/controls",
            "_model_module_version": "1.5.0",
            "_model_name": "DescriptionStyleModel",
            "_view_count": null,
            "_view_module": "@jupyter-widgets/base",
            "_view_module_version": "1.2.0",
            "_view_name": "StyleView",
            "description_width": ""
          }
        }
      }
    }
  },
  "nbformat": 4,
  "nbformat_minor": 0
}